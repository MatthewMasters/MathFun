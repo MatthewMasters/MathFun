{
 "cells": [
  {
   "cell_type": "code",
   "execution_count": 3,
   "metadata": {},
   "outputs": [],
   "source": [
    "import numpy as np\n",
    "import os"
   ]
  },
  {
   "cell_type": "code",
   "execution_count": 4,
   "metadata": {},
   "outputs": [],
   "source": [
    "doors = ['A','B','C']"
   ]
  },
  {
   "cell_type": "code",
   "execution_count": 5,
   "metadata": {},
   "outputs": [],
   "source": [
    "def runScenario(switch):\n",
    "    car_door = np.random.choice(doors,1)\n",
    "    door_selection = np.random.choice(doors,1)\n",
    "    reveal_selection = [door for door in doors if door not in car_door and door not in door_selection][0]\n",
    "    if switch:\n",
    "        isWin = [door for door in doors if door not in reveal_selection and door not in door_selection][0] == car_door\n",
    "    else:\n",
    "        isWin = door_selection == car_door\n",
    "    return isWin"
   ]
  },
  {
   "cell_type": "code",
   "execution_count": 14,
   "metadata": {},
   "outputs": [
    {
     "name": "stdout",
     "output_type": "stream",
     "text": [
      "0.66707\n"
     ]
    }
   ],
   "source": [
    "c = 0\n",
    "for _ in range(100000):\n",
    "    if runScenario(switch=True):\n",
    "        c += 1\n",
    "print(c/100000)"
   ]
  },
  {
   "cell_type": "code",
   "execution_count": 15,
   "metadata": {},
   "outputs": [
    {
     "name": "stdout",
     "output_type": "stream",
     "text": [
      "0.33459\n"
     ]
    }
   ],
   "source": [
    "c = 0\n",
    "for _ in range(100000):\n",
    "    if runScenario(switch=False):\n",
    "        c += 1\n",
    "print(c/100000)"
   ]
  },
  {
   "cell_type": "code",
   "execution_count": null,
   "metadata": {},
   "outputs": [],
   "source": []
  }
 ],
 "metadata": {
  "kernelspec": {
   "display_name": "Python (ML)",
   "language": "python",
   "name": "ml"
  },
  "language_info": {
   "codemirror_mode": {
    "name": "ipython",
    "version": 3
   },
   "file_extension": ".py",
   "mimetype": "text/x-python",
   "name": "python",
   "nbconvert_exporter": "python",
   "pygments_lexer": "ipython3",
   "version": "3.6.7"
  }
 },
 "nbformat": 4,
 "nbformat_minor": 2
}

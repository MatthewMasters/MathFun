{
 "cells": [
  {
   "cell_type": "code",
   "execution_count": 32,
   "metadata": {},
   "outputs": [],
   "source": [
    "# Original Problem: https://projecteuler.net/problem=49\n",
    "# Solution by Matthew Masters"
   ]
  },
  {
   "cell_type": "code",
   "execution_count": 30,
   "metadata": {},
   "outputs": [],
   "source": [
    "noprimes = set(j for i in range(2, 1000) for j in range(i*2, 10000, i))\n",
    "prime_set = [x for x in range(999, 10000) if x not in noprimes]"
   ]
  },
  {
   "cell_type": "code",
   "execution_count": 31,
   "metadata": {},
   "outputs": [
    {
     "name": "stdout",
     "output_type": "stream",
     "text": [
      "1487-4817-8147\n",
      "2969-6299-9629\n"
     ]
    }
   ],
   "source": [
    "for idx,p0 in enumerate(prime_set):\n",
    "    larger_primes = prime_set[idx+1:]\n",
    "    for p1 in larger_primes:\n",
    "        delta = p1 - p0\n",
    "        p2 = p1 + delta\n",
    "        if p2 in larger_primes:\n",
    "            p0_digits = [int(d) for d in str(p0)]\n",
    "            p1_digits = [int(d) for d in str(p1)]\n",
    "            p2_digits = [int(d) for d in str(p2)]\n",
    "            p0_digits.sort()\n",
    "            p1_digits.sort()\n",
    "            p2_digits.sort()\n",
    "            if p0_digits == p1_digits == p2_digits:\n",
    "                print('%d-%d-%d' % (p0, p1, p2))"
   ]
  },
  {
   "cell_type": "code",
   "execution_count": null,
   "metadata": {},
   "outputs": [],
   "source": []
  }
 ],
 "metadata": {
  "kernelspec": {
   "display_name": "Python (chemoinformatics)",
   "language": "python",
   "name": "chemoinformatics"
  },
  "language_info": {
   "codemirror_mode": {
    "name": "ipython",
    "version": 2
   },
   "file_extension": ".py",
   "mimetype": "text/x-python",
   "name": "python",
   "nbconvert_exporter": "python",
   "pygments_lexer": "ipython2",
   "version": "2.7.15"
  }
 },
 "nbformat": 4,
 "nbformat_minor": 2
}

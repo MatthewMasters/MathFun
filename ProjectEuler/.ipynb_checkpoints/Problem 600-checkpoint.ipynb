{
 "cells": [
  {
   "cell_type": "code",
   "execution_count": 1,
   "metadata": {},
   "outputs": [],
   "source": [
    "import itertools"
   ]
  },
  {
   "cell_type": "code",
   "execution_count": 36,
   "metadata": {},
   "outputs": [],
   "source": [
    "def H(n):\n",
    "    c = 0\n",
    "    for x in range(1,n-4):\n",
    "        for y in range(1,n-4):\n",
    "            for z in range(1,n-4):\n",
    "                p = 2 * x + 2 * y + 2 * z\n",
    "                if p <= n:\n",
    "                    c += 1\n",
    "    return c"
   ]
  },
  {
   "cell_type": "code",
   "execution_count": 37,
   "metadata": {},
   "outputs": [
    {
     "name": "stdout",
     "output_type": "stream",
     "text": [
      "1\n",
      "20\n",
      "19600\n"
     ]
    }
   ],
   "source": [
    "print(H(6)) # 1\n",
    "print(H(12)) # 10\n",
    "print(H(100)) # 31248"
   ]
  },
  {
   "cell_type": "code",
   "execution_count": null,
   "metadata": {},
   "outputs": [],
   "source": []
  }
 ],
 "metadata": {
  "kernelspec": {
   "display_name": "Python (ML)",
   "language": "python",
   "name": "ml"
  },
  "language_info": {
   "codemirror_mode": {
    "name": "ipython",
    "version": 3
   },
   "file_extension": ".py",
   "mimetype": "text/x-python",
   "name": "python",
   "nbconvert_exporter": "python",
   "pygments_lexer": "ipython3",
   "version": "3.6.6"
  }
 },
 "nbformat": 4,
 "nbformat_minor": 2
}

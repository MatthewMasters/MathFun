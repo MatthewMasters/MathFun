{
 "cells": [
  {
   "cell_type": "code",
   "execution_count": 18,
   "metadata": {},
   "outputs": [],
   "source": [
    "def s(n):\n",
    "    c = 0\n",
    "    \n",
    "    for p_x in range(1,n+1):\n",
    "        for q_y in range(1,n+1):\n",
    "            print('p')\n",
    "            print(p_x,0)\n",
    "            print('q')\n",
    "            print(0,q_y)\n",
    "            print('\\n')\n",
    "            c += 2\n",
    "                \n",
    "    for q_y in range(1,n+1):\n",
    "        for p_x in range(1,n+1):\n",
    "            c += 2\n",
    "                \n",
    "    return c"
   ]
  },
  {
   "cell_type": "code",
   "execution_count": 19,
   "metadata": {},
   "outputs": [
    {
     "name": "stdout",
     "output_type": "stream",
     "text": [
      "p\n",
      "1 0\n",
      "q\n",
      "0 1\n",
      "p\n",
      "1 0\n",
      "q\n",
      "0 2\n",
      "p\n",
      "2 0\n",
      "q\n",
      "0 1\n",
      "p\n",
      "2 0\n",
      "q\n",
      "0 2\n"
     ]
    },
    {
     "data": {
      "text/plain": [
       "16"
      ]
     },
     "execution_count": 19,
     "metadata": {},
     "output_type": "execute_result"
    }
   ],
   "source": [
    "s(2)"
   ]
  },
  {
   "cell_type": "code",
   "execution_count": null,
   "metadata": {},
   "outputs": [],
   "source": []
  }
 ],
 "metadata": {
  "kernelspec": {
   "display_name": "Python (ML)",
   "language": "python",
   "name": "ml"
  },
  "language_info": {
   "codemirror_mode": {
    "name": "ipython",
    "version": 3
   },
   "file_extension": ".py",
   "mimetype": "text/x-python",
   "name": "python",
   "nbconvert_exporter": "python",
   "pygments_lexer": "ipython3",
   "version": "3.6.6"
  }
 },
 "nbformat": 4,
 "nbformat_minor": 2
}

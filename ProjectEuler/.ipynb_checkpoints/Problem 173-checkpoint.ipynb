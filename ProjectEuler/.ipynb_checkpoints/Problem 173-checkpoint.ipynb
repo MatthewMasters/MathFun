{
 "cells": [
  {
   "cell_type": "code",
   "execution_count": 59,
   "metadata": {},
   "outputs": [],
   "source": [
    "import math\n",
    "from tqdm import tqdm"
   ]
  },
  {
   "cell_type": "code",
   "execution_count": 60,
   "metadata": {},
   "outputs": [],
   "source": [
    "def L(n):\n",
    "    l = 0\n",
    "    max_d = math.ceil((n+1)/4.0)\n",
    "    for d in tqdm(range(1,max_d+1,2)):\n",
    "        dA = d ** 2\n",
    "        max_h = d - 1\n",
    "        for h in range(1,max_h,2):\n",
    "            hA = h ** 2\n",
    "            k = dA - hA\n",
    "            if k <= n:\n",
    "                l += 1\n",
    "                \n",
    "    for d in tqdm(range(4,max_d+1,2)):\n",
    "        dA = d ** 2\n",
    "        max_h = d - 1\n",
    "        for h in range(2,max_h,2):\n",
    "            hA = h ** 2\n",
    "            k = dA - hA\n",
    "            if k <= n:\n",
    "                l += 1\n",
    "    return l"
   ]
  },
  {
   "cell_type": "code",
   "execution_count": 61,
   "metadata": {},
   "outputs": [
    {
     "name": "stderr",
     "output_type": "stream",
     "text": [
      "100%|██████████| 13/13 [00:00<00:00, 18828.02it/s]\n",
      "100%|██████████| 12/12 [00:00<00:00, 40492.07it/s]\n",
      "  1%|          | 697/125001 [00:00<00:17, 6964.01it/s]"
     ]
    },
    {
     "name": "stdout",
     "output_type": "stream",
     "text": [
      "41\n"
     ]
    },
    {
     "name": "stderr",
     "output_type": "stream",
     "text": [
      "100%|██████████| 125001/125001 [50:37<00:00, 41.15it/s]\n",
      "100%|██████████| 124999/124999 [51:03<00:00, 40.80it/s]"
     ]
    },
    {
     "name": "stdout",
     "output_type": "stream",
     "text": [
      "1572729\n"
     ]
    },
    {
     "name": "stderr",
     "output_type": "stream",
     "text": [
      "\n"
     ]
    }
   ],
   "source": [
    "print(L(100)) # 41\n",
    "print(L(1000000)) # ans"
   ]
  },
  {
   "cell_type": "code",
   "execution_count": null,
   "metadata": {},
   "outputs": [],
   "source": []
  }
 ],
 "metadata": {
  "kernelspec": {
   "display_name": "Python (ML)",
   "language": "python",
   "name": "ml"
  },
  "language_info": {
   "codemirror_mode": {
    "name": "ipython",
    "version": 3
   },
   "file_extension": ".py",
   "mimetype": "text/x-python",
   "name": "python",
   "nbconvert_exporter": "python",
   "pygments_lexer": "ipython3",
   "version": "3.6.6"
  }
 },
 "nbformat": 4,
 "nbformat_minor": 2
}

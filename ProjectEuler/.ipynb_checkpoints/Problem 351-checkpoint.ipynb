{
 "cells": [
  {
   "cell_type": "code",
   "execution_count": 1,
   "metadata": {},
   "outputs": [],
   "source": [
    "import math"
   ]
  },
  {
   "cell_type": "code",
   "execution_count": 67,
   "metadata": {},
   "outputs": [],
   "source": [
    "def H(n):\n",
    "    count = (n-1)*6\n",
    "    count += math.floor(n/2 - 1)*6\n",
    "    count += math.floor(n/3 - 1)*12\n",
    "    count += math.floor(n/4 - 1)*24\n",
    "    count += math.floor(n/5 - 1)*12\n",
    "    count += math.floor(n/6 - 1)*48\n",
    "    count += math.floor(n/7 - 1)*12\n",
    "    count += math.floor(n/8 - 1)*96\n",
    "    count += math.floor(n/9 - 1)*12\n",
    "    d = 2\n",
    "    cd = 6\n",
    "    while True:\n",
    "        if d % 2 == 0:\n",
    "            count += math.floor(n/d -1)*cd\n",
    "            cd *= 2\n",
    "        else:\n",
    "            count += math.floor(n/d -1)*12\n",
    "        cd += 1\n",
    "        if math.floor(n/d-1) < 0:\n",
    "            break\n",
    "    return count"
   ]
  },
  {
   "cell_type": "code",
   "execution_count": 68,
   "metadata": {},
   "outputs": [
    {
     "data": {
      "text/plain": [
       "138"
      ]
     },
     "execution_count": 68,
     "metadata": {},
     "output_type": "execute_result"
    }
   ],
   "source": [
    "H(10) #138"
   ]
  },
  {
   "cell_type": "code",
   "execution_count": 69,
   "metadata": {},
   "outputs": [
    {
     "data": {
      "text/plain": [
       "44172"
      ]
     },
     "execution_count": 69,
     "metadata": {},
     "output_type": "execute_result"
    }
   ],
   "source": [
    "H(1000) #1177848"
   ]
  },
  {
   "cell_type": "code",
   "execution_count": null,
   "metadata": {},
   "outputs": [],
   "source": []
  }
 ],
 "metadata": {
  "kernelspec": {
   "display_name": "Python (ML)",
   "language": "python",
   "name": "ml"
  },
  "language_info": {
   "codemirror_mode": {
    "name": "ipython",
    "version": 3
   },
   "file_extension": ".py",
   "mimetype": "text/x-python",
   "name": "python",
   "nbconvert_exporter": "python",
   "pygments_lexer": "ipython3",
   "version": "3.6.6"
  }
 },
 "nbformat": 4,
 "nbformat_minor": 2
}

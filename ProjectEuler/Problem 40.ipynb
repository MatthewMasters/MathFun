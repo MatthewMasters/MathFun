{
 "cells": [
  {
   "cell_type": "code",
   "execution_count": 1,
   "metadata": {},
   "outputs": [],
   "source": [
    "#An irrational decimal fraction is created by concatenating the positive integers:\n",
    "#0.123456789101112131415161718192021...\n",
    "#It can be seen that the 12th digit of the fractional part is 1.\n",
    "#If dn represents the nth digit of the fractional part, find the value of the following expression.\n",
    "#d1 × d10 × d100 × d1000 × d10000 × d100,000 × d1,000,000"
   ]
  },
  {
   "cell_type": "code",
   "execution_count": null,
   "metadata": {},
   "outputs": [],
   "source": [
    "d1 = 1\n",
    "d10 = 1\n",
    "d100 = "
   ]
  },
  {
   "cell_type": "code",
   "execution_count": null,
   "metadata": {},
   "outputs": [],
   "source": [
    "ans = d1 * d10 * d100 * d1000 * d10000 * d100000 * d1000000"
   ]
  }
 ],
 "metadata": {
  "kernelspec": {
   "display_name": "Python (ML)",
   "language": "python",
   "name": "ml"
  },
  "language_info": {
   "codemirror_mode": {
    "name": "ipython",
    "version": 3
   },
   "file_extension": ".py",
   "mimetype": "text/x-python",
   "name": "python",
   "nbconvert_exporter": "python",
   "pygments_lexer": "ipython3",
   "version": "3.6.6"
  }
 },
 "nbformat": 4,
 "nbformat_minor": 2
}

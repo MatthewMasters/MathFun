{
 "cells": [
  {
   "cell_type": "code",
   "execution_count": 10,
   "metadata": {},
   "outputs": [
    {
     "name": "stdout",
     "output_type": "stream",
     "text": [
      "906609\n"
     ]
    }
   ],
   "source": [
    "nset = [i+100 for i in range(900)]\n",
    "largest = 0\n",
    "for num1 in nset:\n",
    "    for num2 in nset:\n",
    "        product = num1 * num2\n",
    "        test_palin = list(str(product))\n",
    "        test_palin_r = list(reversed(test_palin))\n",
    "        if test_palin == test_palin_r:\n",
    "            if product > largest:\n",
    "                largest = product\n",
    "                \n",
    "print(largest)"
   ]
  },
  {
   "cell_type": "code",
   "execution_count": null,
   "metadata": {},
   "outputs": [],
   "source": []
  }
 ],
 "metadata": {
  "kernelspec": {
   "display_name": "Python (chemoinformatics)",
   "language": "python",
   "name": "chemoinformatics"
  },
  "language_info": {
   "codemirror_mode": {
    "name": "ipython",
    "version": 2
   },
   "file_extension": ".py",
   "mimetype": "text/x-python",
   "name": "python",
   "nbconvert_exporter": "python",
   "pygments_lexer": "ipython2",
   "version": "2.7.15"
  }
 },
 "nbformat": 4,
 "nbformat_minor": 2
}

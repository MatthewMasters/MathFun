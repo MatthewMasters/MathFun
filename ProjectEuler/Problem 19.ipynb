{
 "cells": [
  {
   "cell_type": "code",
   "execution_count": 4,
   "metadata": {},
   "outputs": [],
   "source": [
    "from math import floor"
   ]
  },
  {
   "cell_type": "code",
   "execution_count": 6,
   "metadata": {},
   "outputs": [
    {
     "name": "stdout",
     "output_type": "stream",
     "text": [
      "171\n"
     ]
    }
   ],
   "source": [
    "day = 1\n",
    "end_day = (99 * 365) + floor(99 / 4)\n",
    "\n",
    "c = 0\n",
    "while day < end_day:\n",
    "    for i_mon, n_days in enumerate([31, 28, 31, 30, 31, 30, 31, 31, 30, 31, 30, 31]):\n",
    "        if i_mon == 1 and (floor(day / 365)+1901) % 4 == 0:\n",
    "            n_days += 1\n",
    "        day += n_days\n",
    "        if (day - 7) % 7 == 0:\n",
    "            # is Sunday\n",
    "            c += 1\n",
    "print(c)"
   ]
  }
 ],
 "metadata": {
  "kernelspec": {
   "display_name": "Python (ML)",
   "language": "python",
   "name": "ml"
  },
  "language_info": {
   "codemirror_mode": {
    "name": "ipython",
    "version": 3
   },
   "file_extension": ".py",
   "mimetype": "text/x-python",
   "name": "python",
   "nbconvert_exporter": "python",
   "pygments_lexer": "ipython3",
   "version": "3.7.3"
  }
 },
 "nbformat": 4,
 "nbformat_minor": 2
}

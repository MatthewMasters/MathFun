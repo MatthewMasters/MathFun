{
 "cells": [
  {
   "cell_type": "code",
   "execution_count": 53,
   "metadata": {},
   "outputs": [],
   "source": [
    "from tqdm import tqdm"
   ]
  },
  {
   "cell_type": "code",
   "execution_count": 81,
   "metadata": {},
   "outputs": [],
   "source": [
    "def H(n):\n",
    "    c = 0  \n",
    "    tri_n = 3\n",
    "    while True:\n",
    "        m = tri_n / 3\n",
    "        for i in range(n-(tri_n-1)):\n",
    "            c += int(m * (1 + i))\n",
    "        tri_n += 3\n",
    "        if tri_n > n:\n",
    "            break\n",
    "            \n",
    "    return c"
   ]
  },
  {
   "cell_type": "code",
   "execution_count": 82,
   "metadata": {},
   "outputs": [],
   "source": [
    "def H_next(n):\n",
    "    c = 0  \n",
    "    tri_n = 3\n",
    "    while True:\n",
    "        m = tri_n / 3\n",
    "        c += int(m * (1 + (n-(tri_n))))\n",
    "        last = c \n",
    "        tri_n += 3\n",
    "        if tri_n > n:\n",
    "            break\n",
    "    return c"
   ]
  },
  {
   "cell_type": "code",
   "execution_count": 83,
   "metadata": {
    "scrolled": true
   },
   "outputs": [
    {
     "name": "stdout",
     "output_type": "stream",
     "text": [
      "n = 3; should eval to 1\n",
      "1\n",
      "n = 6; should eval to 12\n",
      "12\n",
      "n = 20; should eval to 966\n",
      "966\n"
     ]
    }
   ],
   "source": [
    "#Eval\n",
    "print(\"n = 3; should eval to 1\")\n",
    "print(H(3))\n",
    "print(\"n = 6; should eval to 12\")\n",
    "print(H(6))\n",
    "print(\"n = 20; should eval to 966\")\n",
    "print(H(20))"
   ]
  },
  {
   "cell_type": "code",
   "execution_count": 80,
   "metadata": {},
   "outputs": [
    {
     "name": "stdout",
     "output_type": "stream",
     "text": [
      "265695031399260211\n"
     ]
    }
   ],
   "source": [
    "ans = 0\n",
    "last = 0\n",
    "i = 3\n",
    "while True:\n",
    "    last = (H_next(i) + last)\n",
    "    ans += last\n",
    "    if i == 12345:\n",
    "        break\n",
    "    i += 1\n",
    "print(ans)"
   ]
  }
 ],
 "metadata": {
  "kernelspec": {
   "display_name": "Python (ML)",
   "language": "python",
   "name": "ml"
  },
  "language_info": {
   "codemirror_mode": {
    "name": "ipython",
    "version": 3
   },
   "file_extension": ".py",
   "mimetype": "text/x-python",
   "name": "python",
   "nbconvert_exporter": "python",
   "pygments_lexer": "ipython3",
   "version": "3.6.6"
  }
 },
 "nbformat": 4,
 "nbformat_minor": 2
}

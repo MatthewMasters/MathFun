{
 "cells": [
  {
   "cell_type": "code",
   "execution_count": 1,
   "metadata": {},
   "outputs": [],
   "source": [
    "from itertools import permutations\n",
    "import numpy as np\n",
    "from tqdm import tqdm"
   ]
  },
  {
   "cell_type": "code",
   "execution_count": 4,
   "metadata": {},
   "outputs": [
    {
     "name": "stdout",
     "output_type": "stream",
     "text": [
      "6549438327211015\n"
     ]
    }
   ],
   "source": [
    "highest = 0\n",
    "for x in permutations(range(1,10)):\n",
    "    X = np.array([[10,x[0],x[1]],[x[2],x[1],x[3]],[x[4],x[3],x[5]],[x[6],x[5],x[7]],[x[8],x[7],x[0]]])\n",
    "    X_min = np.argmin(X[:,0])\n",
    "    X = np.concatenate([X[X_min:],X[:X_min]]).flatten().astype('U')\n",
    "    X_string = ''.join(list(X))\n",
    "    X_num = int(X_string)\n",
    "    if X_num > highest: highest = X_num\n",
    "print(highest)"
   ]
  },
  {
   "cell_type": "code",
   "execution_count": 3,
   "metadata": {},
   "outputs": [
    {
     "name": "stderr",
     "output_type": "stream",
     "text": [
      "3628800it [00:57, 62630.60it/s]"
     ]
    },
    {
     "name": "stdout",
     "output_type": "stream",
     "text": [
      "65494383272110105\n"
     ]
    },
    {
     "name": "stderr",
     "output_type": "stream",
     "text": [
      "\n"
     ]
    }
   ],
   "source": [
    "highest = 0\n",
    "for x in tqdm(permutations(range(1,11))):\n",
    "    if 10 not in [x[0],x[3],x[5],x[7],x[9]]: continue\n",
    "    X = np.array([[x[0],x[1],x[2]],[x[3],x[2],x[4]],[x[5],x[4],x[6]],[x[7],x[7],x[8]],[x[9],x[8],x[1]]])\n",
    "    X_min = np.argmin(X[:,0])\n",
    "    X = np.concatenate([X[X_min:],X[:X_min]]).flatten().astype('U')\n",
    "    X_string = ''.join(list(X))\n",
    "    X_num = int(X_string)\n",
    "    if X_num > highest: highest = X_num\n",
    "print(highest)"
   ]
  },
  {
   "cell_type": "code",
   "execution_count": null,
   "metadata": {},
   "outputs": [],
   "source": []
  },
  {
   "cell_type": "code",
   "execution_count": null,
   "metadata": {},
   "outputs": [],
   "source": []
  },
  {
   "cell_type": "code",
   "execution_count": null,
   "metadata": {},
   "outputs": [],
   "source": []
  }
 ],
 "metadata": {
  "kernelspec": {
   "display_name": "Python (chemoinformatics)",
   "language": "python",
   "name": "chemoinformatics"
  },
  "language_info": {
   "codemirror_mode": {
    "name": "ipython",
    "version": 2
   },
   "file_extension": ".py",
   "mimetype": "text/x-python",
   "name": "python",
   "nbconvert_exporter": "python",
   "pygments_lexer": "ipython2",
   "version": "2.7.15"
  }
 },
 "nbformat": 4,
 "nbformat_minor": 2
}

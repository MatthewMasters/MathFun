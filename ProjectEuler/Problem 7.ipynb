{
 "cells": [
  {
   "cell_type": "code",
   "execution_count": 6,
   "metadata": {},
   "outputs": [],
   "source": [
    "import sys"
   ]
  },
  {
   "cell_type": "code",
   "execution_count": 7,
   "metadata": {},
   "outputs": [],
   "source": [
    "def isPrime(n):\n",
    "    if n == 1:\n",
    "        return False\n",
    "    for ni in range(2,n-1):\n",
    "        if n % ni == 0:\n",
    "            return False\n",
    "    return True"
   ]
  },
  {
   "cell_type": "code",
   "execution_count": 10,
   "metadata": {},
   "outputs": [
    {
     "name": "stdout",
     "output_type": "stream",
     "text": [
      "104743\n"
     ]
    }
   ],
   "source": [
    "notSolved = True\n",
    "n = 2\n",
    "pc = 0\n",
    "while notSolved:\n",
    "    if isPrime(n):\n",
    "        pc += 1\n",
    "        sys.stdout.write('%d\\r' % pc)\n",
    "        sys.stdout.flush()\n",
    "        if pc > 10000:\n",
    "            print(n)\n",
    "            notSolved = False\n",
    "    n += 2"
   ]
  },
  {
   "cell_type": "code",
   "execution_count": null,
   "metadata": {},
   "outputs": [],
   "source": []
  }
 ],
 "metadata": {
  "kernelspec": {
   "display_name": "Python (chemoinformatics)",
   "language": "python",
   "name": "chemoinformatics"
  },
  "language_info": {
   "codemirror_mode": {
    "name": "ipython",
    "version": 2
   },
   "file_extension": ".py",
   "mimetype": "text/x-python",
   "name": "python",
   "nbconvert_exporter": "python",
   "pygments_lexer": "ipython2",
   "version": "2.7.15"
  }
 },
 "nbformat": 4,
 "nbformat_minor": 2
}

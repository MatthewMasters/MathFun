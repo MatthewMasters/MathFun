{
 "cells": [
  {
   "cell_type": "code",
   "execution_count": 9,
   "metadata": {},
   "outputs": [
    {
     "name": "stdout",
     "output_type": "stream",
     "text": [
      "4782\n"
     ]
    }
   ],
   "source": [
    "solved = False\n",
    "last0 = 1\n",
    "last1 = 1\n",
    "i = 2\n",
    "while not solved:\n",
    "    i += 1\n",
    "    new = last0 + last1\n",
    "    last0 = last1\n",
    "    last1 = new\n",
    "    if len(str(new)) >= 1000:\n",
    "        solved = True\n",
    "print(i)"
   ]
  },
  {
   "cell_type": "code",
   "execution_count": null,
   "metadata": {},
   "outputs": [],
   "source": []
  }
 ],
 "metadata": {
  "kernelspec": {
   "display_name": "Python (chemoinformatics)",
   "language": "python",
   "name": "chemoinformatics"
  },
  "language_info": {
   "codemirror_mode": {
    "name": "ipython",
    "version": 2
   },
   "file_extension": ".py",
   "mimetype": "text/x-python",
   "name": "python",
   "nbconvert_exporter": "python",
   "pygments_lexer": "ipython2",
   "version": "2.7.15"
  }
 },
 "nbformat": 4,
 "nbformat_minor": 2
}

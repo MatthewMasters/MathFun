{
 "cells": [
  {
   "cell_type": "code",
   "execution_count": 11,
   "metadata": {},
   "outputs": [],
   "source": [
    "import numpy as np\n",
    "import matplotlib.pyplot as plt"
   ]
  },
  {
   "cell_type": "code",
   "execution_count": 28,
   "metadata": {},
   "outputs": [
    {
     "name": "stdout",
     "output_type": "stream",
     "text": [
      "134576\n"
     ]
    }
   ],
   "source": [
    "n = 50\n",
    "c = 0\n",
    "ma = []\n",
    "for x in range(1,n+1):\n",
    "    for y in range(1,n+1):\n",
    "        if x/y in ma:\n",
    "            continue\n",
    "        ma.append(x/y)\n",
    "        \n",
    "        for i in range(-n,n+1):\n",
    "            for j in range(1,n+1):\n",
    "                p = np.add(np.dot(i,np.array([y,-x])),np.dot(j,np.array([x,y])))\n",
    "                if 0 <= p[0] <= n and 0 <= p[1] <= n:\n",
    "                    c += 1\n",
    "        \n",
    "    c += (n * n)\n",
    "        \n",
    "print(c)"
   ]
  },
  {
   "cell_type": "code",
   "execution_count": null,
   "metadata": {},
   "outputs": [],
   "source": [
    "\n",
    "ps = np.stack([p0, p1, p2]) #, axis=1\n",
    "print(ps)\n",
    "p = plt.Polygon(ps)\n",
    "plt.gca().add_patch(p)\n",
    "plt.axis([0,6,0,6])\n",
    "plt.show()"
   ]
  },
  {
   "cell_type": "code",
   "execution_count": 23,
   "metadata": {},
   "outputs": [
    {
     "name": "stdout",
     "output_type": "stream",
     "text": [
      "[[0 0]\n",
      " [0 1]\n",
      " [5 0]]\n"
     ]
    },
    {
     "data": {
      "image/png": "[encoded data removed]",
      "text/plain": [
       "<Figure size 432x288 with 1 Axes>"
      ]
     },
     "metadata": {
      "needs_background": "light"
     },
     "output_type": "display_data"
    }
   ],
   "source": [
    "p0 = [0,0]\n",
    "p1 = [0,1]\n",
    "p2 = [5,0]"
   ]
  }
 ],
 "metadata": {
  "kernelspec": {
   "display_name": "Python (ML)",
   "language": "python",
   "name": "ml"
  },
  "language_info": {
   "codemirror_mode": {
    "name": "ipython",
    "version": 3
   },
   "file_extension": ".py",
   "mimetype": "text/x-python",
   "name": "python",
   "nbconvert_exporter": "python",
   "pygments_lexer": "ipython3",
   "version": "3.6.6"
  }
 },
 "nbformat": 4,
 "nbformat_minor": 2
}

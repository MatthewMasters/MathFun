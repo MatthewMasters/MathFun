{
 "cells": [
  {
   "cell_type": "code",
   "execution_count": 41,
   "metadata": {},
   "outputs": [],
   "source": [
    "import numpy as np\n",
    "\n",
    "arr = [[  7, 53,183,439,863],\n",
    "       [497,383,563, 79,973],\n",
    "       [287, 63,343,169,583],\n",
    "       [627,343,773,959,943],\n",
    "       [767,473,103,699,303]]\n",
    "\n",
    "arr = np.asarray(arr)\n",
    "arr2 = np.zeros(arr.shape)"
   ]
  },
  {
   "cell_type": "code",
   "execution_count": 44,
   "metadata": {},
   "outputs": [
    {
     "name": "stdout",
     "output_type": "stream",
     "text": [
      "[[  7  53 183 439 863]\n",
      " [497 383 563  79 973]\n",
      " [287  63 343 169 583]\n",
      " [627 343 773 959 943]\n",
      " [767 473 103 699 303]]\n",
      "[[-3723. -2807. -3327. -3451. -4347.]\n",
      " [-4183. -3427. -3897. -4761. -5187.]\n",
      " [-3343. -2697. -3067. -3621. -4527.]\n",
      " [-5203. -4617. -4837. -5031. -6367.]\n",
      " [-3763. -3187. -4207. -3991. -5707.]]\n"
     ]
    }
   ],
   "source": [
    "print(arr)\n",
    "print(arr2)"
   ]
  },
  {
   "cell_type": "code",
   "execution_count": 43,
   "metadata": {},
   "outputs": [],
   "source": [
    "for i in range(arr.shape[0]):\n",
    "    for j in range(arr.shape[1]):\n",
    "        col_sum = np.sum(arr[i,:])\n",
    "        row_sum = np.sum(arr[:,j])\n",
    "        all_sum = col_sum + row_sum\n",
    "        arr2[i,j] = arr[i,j] - all_sum"
   ]
  },
  {
   "cell_type": "code",
   "execution_count": 39,
   "metadata": {},
   "outputs": [
    {
     "name": "stdout",
     "output_type": "stream",
     "text": [
      "[[  7  53 183 439 863]\n",
      " [497 383 563  79 973]\n",
      " [287  63 343 169 583]\n",
      " [627 343 773 959 943]\n",
      " [767 473 103 699 303]]\n",
      "[[  7  53 183 439 863]\n",
      " [497 383 563  79 973]\n",
      " [287  63 343 169 583]\n",
      " [627 343 773 959 943]\n",
      " [767 473 103 699 303]]\n",
      "[[  7  53 183 439 863]\n",
      " [497 383 563  79 973]\n",
      " [287  63 343 169 583]\n",
      " [627 343 773 959 943]\n",
      " [767 473 103 699 303]]\n",
      "[[  7  53 183 439 863]\n",
      " [497 383 563  79 973]\n",
      " [287  63 343 169 583]\n",
      " [627 343 773 959 943]\n",
      " [767 473 103 699 303]]\n",
      "[[  7  53 183 439 863]\n",
      " [497 383 563  79 973]\n",
      " [287  63 343 169 583]\n",
      " [627 343 773 959 943]\n",
      " [767 473 103 699 303]]\n",
      "1195\n"
     ]
    }
   ],
   "source": [
    "msum = 0\n",
    "while True:\n",
    "    i,j = np.where(arr2 == np.min(arr2))\n",
    "    i,j = i[0],j[0]\n",
    "    msum += arr[i,j]\n",
    "    print(arr)\n",
    "    arr2[i,:] = 0\n",
    "    arr2[:,j] = 0\n",
    "    if np.sum(arr2) == 0:\n",
    "        break\n",
    "print(msum)"
   ]
  },
  {
   "cell_type": "code",
   "execution_count": null,
   "metadata": {},
   "outputs": [],
   "source": []
  }
 ],
 "metadata": {
  "kernelspec": {
   "display_name": "Python (ML)",
   "language": "python",
   "name": "ml"
  },
  "language_info": {
   "codemirror_mode": {
    "name": "ipython",
    "version": 3
   },
   "file_extension": ".py",
   "mimetype": "text/x-python",
   "name": "python",
   "nbconvert_exporter": "python",
   "pygments_lexer": "ipython3",
   "version": "3.6.6"
  }
 },
 "nbformat": 4,
 "nbformat_minor": 2
}

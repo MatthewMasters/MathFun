{
 "cells": [
  {
   "cell_type": "code",
   "execution_count": 38,
   "metadata": {},
   "outputs": [],
   "source": [
    "import math"
   ]
  },
  {
   "cell_type": "code",
   "execution_count": 90,
   "metadata": {},
   "outputs": [],
   "source": [
    "def H(n):\n",
    "    c = 0\n",
    "    if n < 3:\n",
    "        return 0\n",
    "    \n",
    "    third = n/3\n",
    "    largest_hex = int(third)\n",
    "    print('largest hex: %d' % largest_hex)\n",
    "    for hex_size in range(1,largest_hex+1):\n",
    "        print('hex size: %d' % hex_size)\n",
    "        for ni in range(1,n-hex_size):\n",
    "            print('ni: %d' % ni)\n",
    "            c += ni\n",
    "        print('checkpoint c: %d' % c)\n",
    "    return c"
   ]
  },
  {
   "cell_type": "code",
   "execution_count": 91,
   "metadata": {},
   "outputs": [
    {
     "name": "stdout",
     "output_type": "stream",
     "text": [
      "largest hex: 2\n",
      "hex size: 1\n",
      "ni: 1\n",
      "ni: 2\n",
      "ni: 3\n",
      "ni: 4\n",
      "checkpoint c: 10\n",
      "hex size: 2\n",
      "ni: 1\n",
      "ni: 2\n",
      "ni: 3\n",
      "checkpoint c: 16\n",
      "results: 16\n"
     ]
    }
   ],
   "source": [
    "print('results: %d' % H(6))"
   ]
  },
  {
   "cell_type": "code",
   "execution_count": null,
   "metadata": {},
   "outputs": [],
   "source": []
  }
 ],
 "metadata": {
  "kernelspec": {
   "display_name": "Python (chemoinformatics)",
   "language": "python",
   "name": "chemoinformatics"
  },
  "language_info": {
   "codemirror_mode": {
    "name": "ipython",
    "version": 2
   },
   "file_extension": ".py",
   "mimetype": "text/x-python",
   "name": "python",
   "nbconvert_exporter": "python",
   "pygments_lexer": "ipython2",
   "version": "2.7.15"
  }
 },
 "nbformat": 4,
 "nbformat_minor": 2
}

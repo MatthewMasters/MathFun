{
 "cells": [
  {
   "cell_type": "code",
   "execution_count": 33,
   "metadata": {
    "scrolled": true
   },
   "outputs": [
    {
     "name": "stdout",
     "output_type": "stream",
     "text": [
      "347 1999998\n",
      "2772\n"
     ]
    }
   ],
   "source": [
    "i_start = 30\n",
    "j_start = 30\n",
    "i_end = 80\n",
    "j_end = 80\n",
    "dis = []\n",
    "labels = []\n",
    "for i in range(i_start,i_end):\n",
    "    for j in range(j_start,j_end):\n",
    "        total = 0\n",
    "        for n in range(1,i+1):\n",
    "            for m in range(1,j+1):\n",
    "                count = (i - n + 1) * (j - m + 1)\n",
    "                total += count\n",
    "        dis.append(total)\n",
    "        labels.append([i,j])\n",
    "idx,val = min(enumerate(dis), key=lambda x: abs(x[1]-2000000))\n",
    "print(idx,val)\n",
    "i,j = labels[idx]\n",
    "print(i*j)"
   ]
  },
  {
   "cell_type": "code",
   "execution_count": null,
   "metadata": {},
   "outputs": [],
   "source": []
  }
 ],
 "metadata": {
  "kernelspec": {
   "display_name": "Python (ML)",
   "language": "python",
   "name": "ml"
  },
  "language_info": {
   "codemirror_mode": {
    "name": "ipython",
    "version": 3
   },
   "file_extension": ".py",
   "mimetype": "text/x-python",
   "name": "python",
   "nbconvert_exporter": "python",
   "pygments_lexer": "ipython3",
   "version": "3.6.6"
  }
 },
 "nbformat": 4,
 "nbformat_minor": 2
}

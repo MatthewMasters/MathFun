{
 "cells": [
  {
   "cell_type": "code",
   "execution_count": 1,
   "metadata": {},
   "outputs": [],
   "source": [
    "import math"
   ]
  },
  {
   "cell_type": "code",
   "execution_count": 4,
   "metadata": {},
   "outputs": [],
   "source": [
    "log_10 = math.log(10)\n",
    "def base10(b,e):\n",
    "    return (e * math.log(b))/log_10"
   ]
  },
  {
   "cell_type": "code",
   "execution_count": 11,
   "metadata": {},
   "outputs": [
    {
     "name": "stdout",
     "output_type": "stream",
     "text": [
      "3005259.284240271 0\n",
      "3005261.2406258043 1\n",
      "3005273.2826031046 2\n",
      "3005297.3197133327 4\n",
      "3005302.6846038587 5\n",
      "3005307.708050515 7\n",
      "3005313.2388963876 20\n",
      "3005313.63368927 91\n",
      "3005314.202634465 109\n",
      "3005315.477029421 171\n",
      "3005315.883211197 708\n"
     ]
    }
   ],
   "source": [
    "fo = open('Problem99_data.txt', 'r')\n",
    "high = 0\n",
    "for i,line in enumerate(fo):\n",
    "    b,e = (str(line).rstrip()).split(',')\n",
    "    b,e = int(b),int(e)\n",
    "    x = base10(b,e)\n",
    "    if x > high:\n",
    "        high = x\n",
    "        print(high, i)"
   ]
  },
  {
   "cell_type": "code",
   "execution_count": null,
   "metadata": {},
   "outputs": [],
   "source": []
  }
 ],
 "metadata": {
  "kernelspec": {
   "display_name": "Python (ML)",
   "language": "python",
   "name": "ml"
  },
  "language_info": {
   "codemirror_mode": {
    "name": "ipython",
    "version": 3
   },
   "file_extension": ".py",
   "mimetype": "text/x-python",
   "name": "python",
   "nbconvert_exporter": "python",
   "pygments_lexer": "ipython3",
   "version": "3.6.6"
  }
 },
 "nbformat": 4,
 "nbformat_minor": 2
}

{
 "cells": [
  {
   "cell_type": "code",
   "execution_count": 13,
   "metadata": {},
   "outputs": [],
   "source": [
    "import sys"
   ]
  },
  {
   "cell_type": "code",
   "execution_count": null,
   "metadata": {},
   "outputs": [
    {
     "name": "stdout",
     "output_type": "stream",
     "text": [
      "Current highest: 478\t Current n: 11627\r"
     ]
    }
   ],
   "source": [
    "n = 1\n",
    "notSolved = True\n",
    "high = 0\n",
    "last_tnum = 0\n",
    "while notSolved:\n",
    "    c = 0\n",
    "    tnum = last_tnum + n;\n",
    "    last_tnum = tnum\n",
    "    for d in range(2,tnum):\n",
    "        if tnum % d == 0:\n",
    "            c += 1\n",
    "    if c > high:\n",
    "        high = c\n",
    "    if c >= 500:\n",
    "        print(n)\n",
    "        notSolved = False\n",
    "    if n % 10 == 0:\n",
    "        sys.stdout.write(\"Current highest: %d\\t Current n: %d\\r\" % (high, n))\n",
    "        sys.stdout.flush()\n",
    "    n += 1"
   ]
  },
  {
   "cell_type": "code",
   "execution_count": null,
   "metadata": {},
   "outputs": [],
   "source": []
  }
 ],
 "metadata": {
  "kernelspec": {
   "display_name": "Python (chemoinformatics)",
   "language": "python",
   "name": "chemoinformatics"
  },
  "language_info": {
   "codemirror_mode": {
    "name": "ipython",
    "version": 2
   },
   "file_extension": ".py",
   "mimetype": "text/x-python",
   "name": "python",
   "nbconvert_exporter": "python",
   "pygments_lexer": "ipython2",
   "version": "2.7.15"
  }
 },
 "nbformat": 4,
 "nbformat_minor": 2
}

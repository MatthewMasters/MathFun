{
 "cells": [
  {
   "cell_type": "code",
   "execution_count": 1,
   "metadata": {},
   "outputs": [],
   "source": [
    "import math\n",
    "import itertools\n",
    "import matplotlib.pyplot as plt\n",
    "import numpy as np"
   ]
  },
  {
   "cell_type": "code",
   "execution_count": 2,
   "metadata": {},
   "outputs": [],
   "source": [
    "x_turn = ((1.0/4)*(math.sqrt(5)-1))\n",
    "y_turn = (math.sqrt(5/8 + math.sqrt(5)/8))\n",
    "theta = 72\n",
    "gamma = 90 - theta"
   ]
  },
  {
   "cell_type": "code",
   "execution_count": 7,
   "metadata": {
    "scrolled": false
   },
   "outputs": [
    {
     "name": "stdout",
     "output_type": "stream",
     "text": [
      "(0, 0, 0, 0, 0, 0, 0, 0, 0, 0, 0, 0, 0, 0, 0, 0, 0, 0, 0, 0, 0, 0, 0, 0, 0)\n"
     ]
    }
   ],
   "source": [
    "for perm in itertools.product(range(2),repeat=25):\n",
    "    print(perm)\n",
    "    x = 0\n",
    "    y = 0\n",
    "    a = 0\n",
    "    t = 0\n",
    "    xs = [x]\n",
    "    ys = [y]\n",
    "    col = [-1]\n",
    "    for n,move in enumerate(perm):\n",
    "        if move:\n",
    "            xm = x_turn\n",
    "            ym = y_turn\n",
    "            am = theta\n",
    "        else:\n",
    "            xm = -(x_turn)\n",
    "            ym = y_turn\n",
    "            am = -(theta)\n",
    "        #ax = math.ceil(360-((a/360)-math.floor(a/360))*360)\n",
    "        xm = (math.cos(a) * xm - math.sin(a) * ym)\n",
    "        ym = (math.sin(a) * xm + math.cos(a) * ym)\n",
    "        #print(xm, ym, am)\n",
    "        x += xm\n",
    "        y += ym\n",
    "        a += am\n",
    "        xs.append(x)\n",
    "        ys.append(y)\n",
    "        col.append((5*n)%255)\n",
    "    break"
   ]
  },
  {
   "cell_type": "code",
   "execution_count": 8,
   "metadata": {
    "scrolled": false
   },
   "outputs": [
    {
     "data": {
      "text/plain": [
       "<matplotlib.collections.PathCollection at 0x7f03e3bed518>"
      ]
     },
     "execution_count": 8,
     "metadata": {},
     "output_type": "execute_result"
    },
    {
     "data": {
      "image/png": "[encoded data removed]",
      "text/plain": [
       "<Figure size 1080x1080 with 1 Axes>"
      ]
     },
     "metadata": {
      "needs_background": "light"
     },
     "output_type": "display_data"
    }
   ],
   "source": [
    "fig,ax = plt.subplots(figsize=(15,15))\n",
    "ax.set_aspect('equal')\n",
    "ax.scatter(xs,ys,c=col,cmap='hsv',s=200)"
   ]
  },
  {
   "cell_type": "code",
   "execution_count": 78,
   "metadata": {},
   "outputs": [
    {
     "name": "stdout",
     "output_type": "stream",
     "text": [
      "[0, -0.30901699437494745, -1.2272973935888514, -2.1309921801218734, -2.4061613143096134]\n",
      "-6.073467882395286\n"
     ]
    }
   ],
   "source": [
    "print(xs[:5])\n",
    "print(sum(xs[:5]))"
   ]
  },
  {
   "cell_type": "code",
   "execution_count": null,
   "metadata": {},
   "outputs": [],
   "source": []
  }
 ],
 "metadata": {
  "kernelspec": {
   "display_name": "Python (ML)",
   "language": "python",
   "name": "ml"
  },
  "language_info": {
   "codemirror_mode": {
    "name": "ipython",
    "version": 3
   },
   "file_extension": ".py",
   "mimetype": "text/x-python",
   "name": "python",
   "nbconvert_exporter": "python",
   "pygments_lexer": "ipython3",
   "version": "3.6.6"
  }
 },
 "nbformat": 4,
 "nbformat_minor": 2
}
